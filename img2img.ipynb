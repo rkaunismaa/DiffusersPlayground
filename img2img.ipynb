{
  "cells": [
    {
      "cell_type": "markdown",
      "metadata": {},
      "source": [
        "### Wednesday, January 3, 2024\n",
        "\n",
        "[image-to-image](https://huggingface.co/docs/diffusers/using-diffusers/img2img)"
      ]
    },
    {
      "cell_type": "markdown",
      "metadata": {
        "id": "cxXqkOAiEohs"
      },
      "source": [
        "# Text-guided image-to-image generation"
      ]
    },
    {
      "cell_type": "markdown",
      "metadata": {
        "id": "aXoZil2AEohu"
      },
      "source": [
        "The [StableDiffusionImg2ImgPipeline](https://huggingface.co/docs/diffusers/main/en/api/pipelines/stable_diffusion/img2img#diffusers.StableDiffusionImg2ImgPipeline) lets you pass a text prompt and an initial image to condition the generation of new images.\n",
        "\n",
        "Before you begin, make sure you have all the necessary libraries installed:"
      ]
    },
    {
      "cell_type": "code",
      "execution_count": null,
      "metadata": {
        "id": "jI4UK8iIEohv"
      },
      "outputs": [],
      "source": [
        "# uncomment to install the necessary libraries in Colab\n",
        "#!pip install diffusers transformers ftfy accelerate"
      ]
    },
    {
      "cell_type": "markdown",
      "metadata": {
        "id": "fl6pn8SPEohw"
      },
      "source": [
        "Get started by creating a [StableDiffusionImg2ImgPipeline](https://huggingface.co/docs/diffusers/main/en/api/pipelines/stable_diffusion/img2img#diffusers.StableDiffusionImg2ImgPipeline) with a pretrained Stable Diffusion model like [`nitrosocke/Ghibli-Diffusion`](https://huggingface.co/nitrosocke/Ghibli-Diffusion)."
      ]
    },
    {
      "cell_type": "code",
      "execution_count": 1,
      "metadata": {
        "id": "dz-CtjXYEohw"
      },
      "outputs": [
        {
          "data": {
            "application/vnd.jupyter.widget-view+json": {
              "model_id": "1124659771564ede857142e6ece02e40",
              "version_major": 2,
              "version_minor": 0
            },
            "text/plain": [
              "model_index.json:   0%|          | 0.00/546 [00:00<?, ?B/s]"
            ]
          },
          "metadata": {},
          "output_type": "display_data"
        },
        {
          "data": {
            "application/vnd.jupyter.widget-view+json": {
              "model_id": "23164e8d657741d7818ea552aa593bbc",
              "version_major": 2,
              "version_minor": 0
            },
            "text/plain": [
              "Fetching 15 files:   0%|          | 0/15 [00:00<?, ?it/s]"
            ]
          },
          "metadata": {},
          "output_type": "display_data"
        },
        {
          "data": {
            "application/vnd.jupyter.widget-view+json": {
              "model_id": "1d33d8b0c17944aa80156274bc94062e",
              "version_major": 2,
              "version_minor": 0
            },
            "text/plain": [
              "text_encoder/config.json:   0%|          | 0.00/612 [00:00<?, ?B/s]"
            ]
          },
          "metadata": {},
          "output_type": "display_data"
        },
        {
          "data": {
            "application/vnd.jupyter.widget-view+json": {
              "model_id": "6c75cde2a9644dcf95d1a50656192cb5",
              "version_major": 2,
              "version_minor": 0
            },
            "text/plain": [
              "safety_checker/config.json:   0%|          | 0.00/4.84k [00:00<?, ?B/s]"
            ]
          },
          "metadata": {},
          "output_type": "display_data"
        },
        {
          "data": {
            "application/vnd.jupyter.widget-view+json": {
              "model_id": "7d39958aad6e4ef2a294c60644df50c6",
              "version_major": 2,
              "version_minor": 0
            },
            "text/plain": [
              "tokenizer/special_tokens_map.json:   0%|          | 0.00/472 [00:00<?, ?B/s]"
            ]
          },
          "metadata": {},
          "output_type": "display_data"
        },
        {
          "data": {
            "application/vnd.jupyter.widget-view+json": {
              "model_id": "0226d9a564b14a5fbc148cae77aa002d",
              "version_major": 2,
              "version_minor": 0
            },
            "text/plain": [
              "tokenizer/merges.txt:   0%|          | 0.00/525k [00:00<?, ?B/s]"
            ]
          },
          "metadata": {},
          "output_type": "display_data"
        },
        {
          "data": {
            "application/vnd.jupyter.widget-view+json": {
              "model_id": "74e21409dd6043d4b5ad8340f044c2be",
              "version_major": 2,
              "version_minor": 0
            },
            "text/plain": [
              "scheduler/scheduler_config.json:   0%|          | 0.00/313 [00:00<?, ?B/s]"
            ]
          },
          "metadata": {},
          "output_type": "display_data"
        },
        {
          "data": {
            "application/vnd.jupyter.widget-view+json": {
              "model_id": "662a2f1218f840d08fc5031cc1c703ee",
              "version_major": 2,
              "version_minor": 0
            },
            "text/plain": [
              "(…)ature_extractor/preprocessor_config.json:   0%|          | 0.00/342 [00:00<?, ?B/s]"
            ]
          },
          "metadata": {},
          "output_type": "display_data"
        },
        {
          "data": {
            "application/vnd.jupyter.widget-view+json": {
              "model_id": "135c6c3f8f4643448d5d3e7e7c821c44",
              "version_major": 2,
              "version_minor": 0
            },
            "text/plain": [
              "tokenizer/vocab.json:   0%|          | 0.00/1.06M [00:00<?, ?B/s]"
            ]
          },
          "metadata": {},
          "output_type": "display_data"
        },
        {
          "data": {
            "application/vnd.jupyter.widget-view+json": {
              "model_id": "665029f5340e483497054fc1c8cf7e96",
              "version_major": 2,
              "version_minor": 0
            },
            "text/plain": [
              "unet/config.json:   0%|          | 0.00/748 [00:00<?, ?B/s]"
            ]
          },
          "metadata": {},
          "output_type": "display_data"
        },
        {
          "data": {
            "application/vnd.jupyter.widget-view+json": {
              "model_id": "afa8fdb3fa0b4f3a9ab8a3705e3346b5",
              "version_major": 2,
              "version_minor": 0
            },
            "text/plain": [
              "model.safetensors:   0%|          | 0.00/492M [00:00<?, ?B/s]"
            ]
          },
          "metadata": {},
          "output_type": "display_data"
        },
        {
          "data": {
            "application/vnd.jupyter.widget-view+json": {
              "model_id": "4accd3ce81ff417daeb807dd87792b1a",
              "version_major": 2,
              "version_minor": 0
            },
            "text/plain": [
              "tokenizer/tokenizer_config.json:   0%|          | 0.00/806 [00:00<?, ?B/s]"
            ]
          },
          "metadata": {},
          "output_type": "display_data"
        },
        {
          "data": {
            "application/vnd.jupyter.widget-view+json": {
              "model_id": "e6b0229728c34cfa9404eeac4d38bbce",
              "version_major": 2,
              "version_minor": 0
            },
            "text/plain": [
              "model.safetensors:   0%|          | 0.00/1.22G [00:00<?, ?B/s]"
            ]
          },
          "metadata": {},
          "output_type": "display_data"
        },
        {
          "data": {
            "application/vnd.jupyter.widget-view+json": {
              "model_id": "fa081d402df1485e8940204ba1b9d167",
              "version_major": 2,
              "version_minor": 0
            },
            "text/plain": [
              "vae/config.json:   0%|          | 0.00/581 [00:00<?, ?B/s]"
            ]
          },
          "metadata": {},
          "output_type": "display_data"
        },
        {
          "data": {
            "application/vnd.jupyter.widget-view+json": {
              "model_id": "e65cb211d6f9409f89b55e55c7424758",
              "version_major": 2,
              "version_minor": 0
            },
            "text/plain": [
              "diffusion_pytorch_model.safetensors:   0%|          | 0.00/3.44G [00:00<?, ?B/s]"
            ]
          },
          "metadata": {},
          "output_type": "display_data"
        },
        {
          "data": {
            "application/vnd.jupyter.widget-view+json": {
              "model_id": "4891d5296baa451596f8eb930b9d4819",
              "version_major": 2,
              "version_minor": 0
            },
            "text/plain": [
              "diffusion_pytorch_model.safetensors:   0%|          | 0.00/335M [00:00<?, ?B/s]"
            ]
          },
          "metadata": {},
          "output_type": "display_data"
        },
        {
          "data": {
            "application/vnd.jupyter.widget-view+json": {
              "model_id": "eaa8679ffc284701a99a455c38331467",
              "version_major": 2,
              "version_minor": 0
            },
            "text/plain": [
              "Loading pipeline components...:   0%|          | 0/7 [00:00<?, ?it/s]"
            ]
          },
          "metadata": {},
          "output_type": "display_data"
        },
        {
          "name": "stderr",
          "output_type": "stream",
          "text": [
            "`text_config_dict` is provided which will be used to initialize `CLIPTextConfig`. The value `text_config[\"id2label\"]` will be overriden.\n",
            "`text_config_dict` is provided which will be used to initialize `CLIPTextConfig`. The value `text_config[\"bos_token_id\"]` will be overriden.\n",
            "`text_config_dict` is provided which will be used to initialize `CLIPTextConfig`. The value `text_config[\"eos_token_id\"]` will be overriden.\n"
          ]
        }
      ],
      "source": [
        "import torch\n",
        "import requests\n",
        "from PIL import Image\n",
        "from io import BytesIO\n",
        "from diffusers import StableDiffusionImg2ImgPipeline\n",
        "\n",
        "device = \"cuda\"\n",
        "pipe = StableDiffusionImg2ImgPipeline.from_pretrained(\"nitrosocke/Ghibli-Diffusion\", torch_dtype=torch.float16).to(\n",
        "    device\n",
        ")\n",
        "\n",
        "# 75m 55.7s"
      ]
    },
    {
      "cell_type": "code",
      "execution_count": 2,
      "metadata": {},
      "outputs": [
        {
          "name": "stdout",
          "output_type": "stream",
          "text": [
            "models--CompVis--stable-diffusion-v1-4\n",
            "models--TheBloke--CodeLlama-34B-Instruct-GPTQ\n",
            "models--TheBloke--Llama-2-13b-Chat-GPTQ\n",
            "models--google--ddpm-cat-256\n",
            "models--google--ddpm-celebahq-256\n",
            "models--google--ddpm-church-256\n",
            "models--microsoft--Orca-2-13b\n",
            "models--mistralai--Mistral-7B-Instruct-v0.2\n",
            "models--nitrosocke--Ghibli-Diffusion\n",
            "models--runwayml--stable-diffusion-v1-5\n",
            "models--stabilityai--sd-vae-ft-mse\n",
            "version.txt\n",
            "version_diffusers_cache.txt\n"
          ]
        }
      ],
      "source": [
        "!ls /root/.cache/huggingface/hub"
      ]
    },
    {
      "cell_type": "code",
      "execution_count": null,
      "metadata": {},
      "outputs": [],
      "source": [
        "# docker cp c8324b70601d:///root/.cache/huggingface/hub/models--nitrosocke--Ghibli-Diffusion /home/rob/Data3/huggingface/transformers\n",
        "# Successfully copied 5.48GB to /home/rob/Data3/huggingface/transformers"
      ]
    },
    {
      "cell_type": "markdown",
      "metadata": {
        "id": "hODP5hrFEohw"
      },
      "source": [
        "Download and preprocess an initial image so you can pass it to the pipeline:"
      ]
    },
    {
      "cell_type": "code",
      "execution_count": null,
      "metadata": {
        "id": "i7mhGGJ8Eohx"
      },
      "outputs": [],
      "source": [
        "url = \"https://raw.githubusercontent.com/CompVis/stable-diffusion/main/assets/stable-samples/img2img/sketch-mountains-input.jpg\"\n",
        "\n",
        "response = requests.get(url)\n",
        "init_image = Image.open(BytesIO(response.content)).convert(\"RGB\")\n",
        "init_image.thumbnail((768, 768))\n",
        "init_image"
      ]
    },
    {
      "cell_type": "markdown",
      "metadata": {
        "id": "c8zEDa-fEohx"
      },
      "source": [
        "<div class=\"flex justify-center\">\n",
        "    <img src=\"https://huggingface.co/datasets/YiYiXu/test-doc-assets/resolve/main/image_2_image_using_diffusers_cell_8_output_0.jpeg\"/>\n",
        "</div>\n",
        "\n",
        "<Tip>\n",
        "\n",
        "💡 `strength` is a value between 0.0 and 1.0 that controls the amount of noise added to the input image. Values that approach 1.0 allow for lots of variations but will also produce images that are not semantically consistent with the input.\n",
        "\n",
        "</Tip>\n",
        "\n",
        "Define the prompt (for this checkpoint finetuned on Ghibli-style art, you need to prefix the prompt with the `ghibli style` tokens) and run the pipeline:"
      ]
    },
    {
      "cell_type": "code",
      "execution_count": null,
      "metadata": {
        "id": "Y5yUTnYjEohy"
      },
      "outputs": [],
      "source": [
        "prompt = \"ghibli style, a fantasy landscape with castles\"\n",
        "generator = torch.Generator(device=device).manual_seed(1024)\n",
        "image = pipe(prompt=prompt, image=init_image, strength=0.75, guidance_scale=7.5, generator=generator).images[0]\n",
        "image"
      ]
    },
    {
      "cell_type": "markdown",
      "metadata": {
        "id": "0ITE9V5tEohy"
      },
      "source": [
        "<div class=\"flex justify-center\">\n",
        "    <img src=\"https://huggingface.co/datasets/huggingface/documentation-images/resolve/main/diffusers/ghibli-castles.png\"/>\n",
        "</div>\n",
        "\n",
        "You can also try experimenting with a different scheduler to see how that affects the output:"
      ]
    },
    {
      "cell_type": "code",
      "execution_count": null,
      "metadata": {
        "id": "QLhCxc5DEohy"
      },
      "outputs": [],
      "source": [
        "from diffusers import LMSDiscreteScheduler\n",
        "\n",
        "lms = LMSDiscreteScheduler.from_config(pipe.scheduler.config)\n",
        "pipe.scheduler = lms\n",
        "generator = torch.Generator(device=device).manual_seed(1024)\n",
        "image = pipe(prompt=prompt, image=init_image, strength=0.75, guidance_scale=7.5, generator=generator).images[0]\n",
        "image"
      ]
    },
    {
      "cell_type": "markdown",
      "metadata": {
        "id": "KtqGkR4FEohy"
      },
      "source": [
        "<div class=\"flex justify-center\">\n",
        "    <img src=\"https://huggingface.co/datasets/huggingface/documentation-images/resolve/main/diffusers/lms-ghibli.png\"/>\n",
        "</div>\n",
        "\n",
        "Check out the Spaces below, and try generating images with different values for `strength`. You'll notice that using lower values for `strength` produces images that are more similar to the original image.\n",
        "\n",
        "Feel free to also switch the scheduler to the [LMSDiscreteScheduler](https://huggingface.co/docs/diffusers/main/en/api/schedulers/lms_discrete#diffusers.LMSDiscreteScheduler) and see how that affects the output.\n",
        "\n",
        "<iframe\n",
        "\tsrc=\"https://stevhliu-ghibli-img2img.hf.space\"\n",
        "\tframeborder=\"0\"\n",
        "\twidth=\"850\"\n",
        "\theight=\"500\"\n",
        "></iframe>"
      ]
    }
  ],
  "metadata": {
    "colab": {
      "provenance": []
    },
    "kernelspec": {
      "display_name": "Python 3",
      "language": "python",
      "name": "python3"
    },
    "language_info": {
      "codemirror_mode": {
        "name": "ipython",
        "version": 3
      },
      "file_extension": ".py",
      "mimetype": "text/x-python",
      "name": "python",
      "nbconvert_exporter": "python",
      "pygments_lexer": "ipython3",
      "version": "3.8.10"
    }
  },
  "nbformat": 4,
  "nbformat_minor": 0
}
