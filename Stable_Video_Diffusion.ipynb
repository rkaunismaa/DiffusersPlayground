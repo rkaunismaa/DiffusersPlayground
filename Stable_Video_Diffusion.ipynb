{
 "cells": [
  {
   "cell_type": "markdown",
   "metadata": {},
   "source": [
    "#### Friday, January 5, 2024\n",
    "\n",
    "[Stable Video Diffusion](https://huggingface.co/docs/diffusers/using-diffusers/svd)\n",
    "\n",
    "1) pip install opencv-python"
   ]
  },
  {
   "cell_type": "code",
   "execution_count": 1,
   "metadata": {},
   "outputs": [
    {
     "data": {
      "application/vnd.jupyter.widget-view+json": {
       "model_id": "d4dcac43cf204c44a63c2cfc72472352",
       "version_major": 2,
       "version_minor": 0
      },
      "text/plain": [
       "Loading pipeline components...:   0%|          | 0/5 [00:00<?, ?it/s]"
      ]
     },
     "metadata": {},
     "output_type": "display_data"
    }
   ],
   "source": [
    "import torch\n",
    "\n",
    "from diffusers import StableVideoDiffusionPipeline\n",
    "from diffusers.utils import load_image, export_to_video\n",
    "\n",
    "pipe = StableVideoDiffusionPipeline.from_pretrained(\n",
    "    \"stabilityai/stable-video-diffusion-img2vid-xt\", torch_dtype=torch.float16, variant=\"fp16\"\n",
    ")\n",
    "pipe.enable_model_cpu_offload()\n",
    "\n"
   ]
  },
  {
   "cell_type": "code",
   "execution_count": null,
   "metadata": {},
   "outputs": [],
   "source": [
    "# Load the conditioning image\n",
    "image = load_image(\"https://huggingface.co/datasets/huggingface/documentation-images/resolve/main/diffusers/svd/rocket.png\")\n",
    "image = image.resize((1024, 576))\n",
    "\n",
    "generator = torch.manual_seed(42)\n",
    "frames = pipe(image, decode_chunk_size=8, generator=generator).frames[0]\n",
    "\n",
    "export_to_video(frames, \"generated.mp4\", fps=7)"
   ]
  },
  {
   "cell_type": "code",
   "execution_count": 2,
   "metadata": {},
   "outputs": [
    {
     "name": "stdout",
     "output_type": "stream",
     "text": [
      "models--CompVis--stable-diffusion-v1-4\n",
      "models--TheBloke--CodeLlama-34B-Instruct-GPTQ\n",
      "models--TheBloke--Llama-2-13b-Chat-GPTQ\n",
      "models--anton-l--ddpm-butterflies-128\n",
      "models--google--ddpm-cat-256\n",
      "models--google--ddpm-celebahq-256\n",
      "models--google--ddpm-church-256\n",
      "models--kandinsky-community--kandinsky-2-2-decoder\n",
      "models--kandinsky-community--kandinsky-2-2-prior\n",
      "models--kohbanye--pixel-art-style\n",
      "models--lllyasviel--control_v11p_sd15_openpose\n",
      "models--microsoft--Orca-2-13b\n",
      "models--mistralai--Mistral-7B-Instruct-v0.2\n",
      "models--nitrosocke--Ghibli-Diffusion\n",
      "models--ogkalu--Comic-Diffusion\n",
      "models--runwayml--stable-diffusion-v1-5\n",
      "models--stabilityai--sd-vae-ft-mse\n",
      "models--stabilityai--sd-x2-latent-upscaler\n",
      "models--stabilityai--stable-diffusion-xl-base-1.0\n",
      "models--stabilityai--stable-diffusion-xl-refiner-1.0\n",
      "models--stabilityai--stable-video-diffusion-img2vid-xt\n",
      "tmplfhsdhsz\n",
      "tmpnhzefb_1\n",
      "tmpqyiqy8vy\n",
      "tmpt0cjd006\n",
      "tmpw_a6f9l2\n",
      "version.txt\n",
      "version_diffusers_cache.txt\n"
     ]
    }
   ],
   "source": [
    "!ls /root/.cache/huggingface/hub"
   ]
  },
  {
   "cell_type": "code",
   "execution_count": null,
   "metadata": {},
   "outputs": [],
   "source": [
    "# docker cp c8324b70601d:///root/.cache/huggingface/hub/models--stabilityai--stable-video-diffusion-img2vid-xt /home/rob/Data3/huggingface/transformers\n",
    "# Successfully copied 4.51GB to /home/rob/Data3/huggingface/transformers"
   ]
  }
 ],
 "metadata": {
  "kernelspec": {
   "display_name": "Python 3",
   "language": "python",
   "name": "python3"
  },
  "language_info": {
   "codemirror_mode": {
    "name": "ipython",
    "version": 3
   },
   "file_extension": ".py",
   "mimetype": "text/x-python",
   "name": "python",
   "nbconvert_exporter": "python",
   "pygments_lexer": "ipython3",
   "version": "3.8.10"
  }
 },
 "nbformat": 4,
 "nbformat_minor": 2
}
